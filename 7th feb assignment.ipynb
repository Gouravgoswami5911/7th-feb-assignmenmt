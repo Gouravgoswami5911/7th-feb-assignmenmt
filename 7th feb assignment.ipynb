{
 "cells": [
  {
   "cell_type": "code",
   "execution_count": 1,
   "id": "b6fa37c2",
   "metadata": {},
   "outputs": [],
   "source": [
    "#Question1:  You are writing code for a company. The requirement of the company is that you create a python\n",
    "# function that will check whether the password entered by the user is correct or not. The function should\n",
    "# take the password as input and return the string “Valid Password” if the entered password follows the\n",
    "# below-given password guidelines else it should return “Invalid Password”.\n",
    "\n",
    "# Note: 1. The Password should contain at least two uppercase letters and at least two lowercase letters.\n",
    "\n",
    "# 2. The Password should contain at least a number and three special characters.\n",
    "\n",
    "# 3. The length of the password should be 10 characters long\n",
    "\n",
    "\n",
    "\n",
    "\n",
    "def check_password(password):\n",
    "    # Check the length of password\n",
    "    if len(password) != 10:\n",
    "        return \"Invalid Password\"\n",
    "\n",
    "    # Check if the password contains at least two uppercase letters\n",
    "    uppercase_count = 0\n",
    "    for char in password:\n",
    "        if char.isupper():\n",
    "            uppercase_count += 1\n",
    "    if uppercase_count < 2:\n",
    "        return \"Invalid Password\"\n",
    "\n",
    "    # Check if the password contains at least two lowercase letters\n",
    "    lowercase_count = 0\n",
    "    for char in password:\n",
    "        if char.islower():\n",
    "            lowercase_count += 1\n",
    "    if lowercase_count < 2:\n",
    "        return \"Invalid Password\"\n",
    "\n",
    "    # Check if the password contains at least a number\n",
    "    number_count = 0\n",
    "    for char in password:\n",
    "        if char.isdigit():\n",
    "            number_count += 1\n",
    "    if number_count < 1:\n",
    "        return \"Invalid Password\"\n",
    "\n",
    "    # Check if the password contains at least three special characters\n",
    "    special_char_count = 0\n",
    "    for char in password:\n",
    "        if not char.isalnum():\n",
    "            special_char_count += 1\n",
    "    if special_char_count < 3:\n",
    "        return \"Invalid Password\"\n",
    "\n",
    "    return \"Valid Password\"\n"
   ]
  },
  {
   "cell_type": "code",
   "execution_count": 6,
   "id": "9d8265f8",
   "metadata": {},
   "outputs": [
    {
     "data": {
      "text/plain": [
       "'Valid Password'"
      ]
     },
     "execution_count": 6,
     "metadata": {},
     "output_type": "execute_result"
    }
   ],
   "source": [
    "check_password(\"goUU13%#$y\")"
   ]
  },
  {
   "cell_type": "code",
   "execution_count": 7,
   "id": "df56d8e9",
   "metadata": {},
   "outputs": [
    {
     "name": "stdout",
     "output_type": "stream",
     "text": [
      "True\n"
     ]
    }
   ],
   "source": [
    "#Question2: Solve the below-given questions using at least one of the following: \n",
    "\n",
    "# 1. Lambda functioJ\n",
    "# 2. Filter functioJ\n",
    "# 3. Zap functioJ\n",
    "# 4. List ComprehensioI\n",
    "\n",
    "\n",
    "# . Check if the string starts with a particular letter\n",
    "# . Check if the string is numeric\n",
    "# . Sort a list of tuples having fruit names and their quantity. [(\"mango\",99),(\"orange\",80), (\"grapes\", 1000)]\n",
    "# . Find the squares of numbers from 1 to 10.\n",
    "# . Find the cube root of numbers from 1 to 10.\n",
    "# . Check if a given number is even\n",
    "# . Filter odd numbers from the given list.\n",
    "#  [1,2,3,4,5,6,7,8,9,10]\n",
    "# . Sort a list of integers into positive and negative integers lists.\n",
    "#  [1,2,3,4,5,6,-1,-2,-3,-4,-5,0]\n",
    "\n",
    "\n",
    "\n",
    "\n",
    "\n",
    "string = \"Hello, World!\"\n",
    "start_letter = 'H'\n",
    "is_start_with_letter = lambda x: x.startswith(start_letter)\n",
    "print(is_start_with_letter(string)) # Output: True\n",
    "\n"
   ]
  },
  {
   "cell_type": "code",
   "execution_count": 8,
   "id": "ffe06253",
   "metadata": {},
   "outputs": [
    {
     "name": "stdout",
     "output_type": "stream",
     "text": [
      "True\n"
     ]
    }
   ],
   "source": [
    "string = \"12345\"\n",
    "is_numeric = lambda x: x.isdigit()\n",
    "print(is_numeric(string)) \n"
   ]
  },
  {
   "cell_type": "code",
   "execution_count": 10,
   "id": "9dbfe567",
   "metadata": {},
   "outputs": [
    {
     "name": "stdout",
     "output_type": "stream",
     "text": [
      "[('orange', 80), ('mango', 99), ('grapes', 1000)]\n"
     ]
    }
   ],
   "source": [
    "fruits = [(\"mango\", 99), (\"orange\", 80), (\"grapes\", 1000)]\n",
    "sorted_fruits = sorted(fruits, key=lambda x: x[1])\n",
    "print(sorted_fruits) \n",
    "\n"
   ]
  },
  {
   "cell_type": "code",
   "execution_count": 12,
   "id": "79e795f6",
   "metadata": {},
   "outputs": [
    {
     "name": "stdout",
     "output_type": "stream",
     "text": [
      "[1, 4, 9, 16, 25, 36, 49, 64, 81, 100]\n"
     ]
    }
   ],
   "source": [
    "\n",
    "numbers = [1, 2, 3, 4, 5, 6, 7, 8, 9, 10]\n",
    "squared_numbers = list(map(lambda x: x**2, numbers))\n",
    "print(squared_numbers) \n"
   ]
  },
  {
   "cell_type": "code",
   "execution_count": 13,
   "id": "6da5992a",
   "metadata": {},
   "outputs": [
    {
     "name": "stdout",
     "output_type": "stream",
     "text": [
      "[1.0, 1.2599210498948732, 1.4422495703074083, 1.5874010519681994, 1.7099759466766968, 1.8171205928321397, 1.912931182772389, 2.0, 2.080083823051904, 2.154434690031884]\n"
     ]
    }
   ],
   "source": [
    "import math\n",
    "numbers = [1, 2, 3, 4, 5, 6, 7, 8, 9, 10]\n",
    "cuberoot_numbers = list(map(lambda x: math.pow(x, 1/3), numbers))\n",
    "print(cuberoot_numbers) \n"
   ]
  },
  {
   "cell_type": "code",
   "execution_count": 14,
   "id": "6e28d11e",
   "metadata": {},
   "outputs": [
    {
     "name": "stdout",
     "output_type": "stream",
     "text": [
      "True\n"
     ]
    }
   ],
   "source": [
    "number = 4\n",
    "is_even = lambda x: x%2 == 0\n",
    "print(is_even(number)) \n"
   ]
  },
  {
   "cell_type": "code",
   "execution_count": 16,
   "id": "1bf4ccfb",
   "metadata": {},
   "outputs": [
    {
     "name": "stdout",
     "output_type": "stream",
     "text": [
      "[1, 3, 5, 7, 9]\n"
     ]
    }
   ],
   "source": [
    "numbers = [1, 2, 3, 4, 5, 6, 7, 8, 9, 10]\n",
    "odd_numbers = list(filter(lambda x: x%2 != 0, numbers))\n",
    "print(odd_numbers)"
   ]
  },
  {
   "cell_type": "code",
   "execution_count": 18,
   "id": "654853d0",
   "metadata": {},
   "outputs": [
    {
     "name": "stdout",
     "output_type": "stream",
     "text": [
      "Positive numbers: [1, 2, 3, 4, 5, 6]\n",
      "Negative numbers: [-1, -2, -3, -4, -5]\n"
     ]
    }
   ],
   "source": [
    "numbers = [1, 2, 3, 4, 5, 6, -1, -2, -3, -4, -5, 0]\n",
    "positive_numbers = list(filter(lambda x: x > 0, numbers))\n",
    "negative_numbers = list(filter(lambda x: x < 0, numbers))\n",
    "print(\"Positive numbers:\", positive_numbers)\n",
    "print(\"Negative numbers:\", negative_numbers)\n",
    "\n"
   ]
  },
  {
   "cell_type": "code",
   "execution_count": null,
   "id": "78496737",
   "metadata": {},
   "outputs": [],
   "source": []
  }
 ],
 "metadata": {
  "kernelspec": {
   "display_name": "Python 3 (ipykernel)",
   "language": "python",
   "name": "python3"
  },
  "language_info": {
   "codemirror_mode": {
    "name": "ipython",
    "version": 3
   },
   "file_extension": ".py",
   "mimetype": "text/x-python",
   "name": "python",
   "nbconvert_exporter": "python",
   "pygments_lexer": "ipython3",
   "version": "3.9.6"
  }
 },
 "nbformat": 4,
 "nbformat_minor": 5
}
